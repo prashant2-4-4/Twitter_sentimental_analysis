{
 "cells": [
  {
   "cell_type": "code",
   "execution_count": 1,
   "id": "93f3c974",
   "metadata": {},
   "outputs": [
    {
     "name": "stdout",
     "output_type": "stream",
     "text": [
      "Done\n"
     ]
    }
   ],
   "source": [
    "import matplotlib.pyplot as plt\n",
    "import string\n",
    "from nltk.corpus import stopwords\n",
    "import nltk\n",
    "from nltk.corpus import wordnet\n",
    "from nltk.stem import WordNetLemmatizer\n",
    "from nltk.tokenize.treebank import TreebankWordDetokenizer\n",
    "from collections import Counter\n",
    "from nltk.corpus import stopwords\n",
    "from gensim.utils import simple_preprocess\n",
    "from nltk.corpus import stopwords\n",
    "from sklearn.model_selection import train_test_split\n",
    "import spacy\n",
    "import gensim\n",
    "import seaborn as sns\n",
    "from sklearn.metrics import confusion_matrix\n",
    "import matplotlib.pyplot as plt \n",
    "import tensorflow as tf\n",
    "import keras\n",
    "import numpy as np\n",
    "import pandas as pd\n",
    "import re\n",
    "print('Done')\n"
   ]
  },
  {
   "cell_type": "code",
   "execution_count": 2,
   "id": "65d84a59",
   "metadata": {},
   "outputs": [],
   "source": [
    "train = pd.read_csv('AI trainining data.xlsx - data.csv')"
   ]
  },
  {
   "cell_type": "code",
   "execution_count": 3,
   "id": "0a4c05ca",
   "metadata": {},
   "outputs": [
    {
     "data": {
      "text/html": [
       "<div>\n",
       "<style scoped>\n",
       "    .dataframe tbody tr th:only-of-type {\n",
       "        vertical-align: middle;\n",
       "    }\n",
       "\n",
       "    .dataframe tbody tr th {\n",
       "        vertical-align: top;\n",
       "    }\n",
       "\n",
       "    .dataframe thead th {\n",
       "        text-align: right;\n",
       "    }\n",
       "</style>\n",
       "<table border=\"1\" class=\"dataframe\">\n",
       "  <thead>\n",
       "    <tr style=\"text-align: right;\">\n",
       "      <th></th>\n",
       "      <th>tweet</th>\n",
       "      <th>twitterHandlerused</th>\n",
       "      <th>label</th>\n",
       "      <th>fasttext_labels</th>\n",
       "      <th>Comparison_human&amp;ft</th>\n",
       "      <th>Labels_Manish_Krishna_Anu_Harvinder</th>\n",
       "      <th>2nd review</th>\n",
       "      <th>Final_labels</th>\n",
       "    </tr>\n",
       "  </thead>\n",
       "  <tbody>\n",
       "    <tr>\n",
       "      <th>0</th>\n",
       "      <td>@HatePatroller All @mindvalley students are li...</td>\n",
       "      <td>@mindvalley</td>\n",
       "      <td>Neutral</td>\n",
       "      <td>Neutral</td>\n",
       "      <td>NaN</td>\n",
       "      <td>Neutral</td>\n",
       "      <td>NaN</td>\n",
       "      <td>Neutral</td>\n",
       "    </tr>\n",
       "    <tr>\n",
       "      <th>1</th>\n",
       "      <td>RT @AlphaGammaHQ: Conferences are great platfo...</td>\n",
       "      <td>@mindvalley</td>\n",
       "      <td>Positive</td>\n",
       "      <td>Positive</td>\n",
       "      <td>NaN</td>\n",
       "      <td>Neutral</td>\n",
       "      <td>NaN</td>\n",
       "      <td>Positive</td>\n",
       "    </tr>\n",
       "    <tr>\n",
       "      <th>2</th>\n",
       "      <td>@AlphaGammaHQ @wobi_en @GIFLondon @Esportsbzsu...</td>\n",
       "      <td>@mindvalley</td>\n",
       "      <td>Positive</td>\n",
       "      <td>Positive</td>\n",
       "      <td>NaN</td>\n",
       "      <td>NaN</td>\n",
       "      <td>NaN</td>\n",
       "      <td>Positive</td>\n",
       "    </tr>\n",
       "    <tr>\n",
       "      <th>3</th>\n",
       "      <td>RT @mindvalley: You asked, we delivered. ÃƒÂ°Ã...</td>\n",
       "      <td>@mindvalley</td>\n",
       "      <td>Neutral</td>\n",
       "      <td>Neutral</td>\n",
       "      <td>NaN</td>\n",
       "      <td>NaN</td>\n",
       "      <td>NaN</td>\n",
       "      <td>Neutral</td>\n",
       "    </tr>\n",
       "    <tr>\n",
       "      <th>4</th>\n",
       "      <td>@dubeji18 Check this one out by @thesleepdocto...</td>\n",
       "      <td>@mindvalley</td>\n",
       "      <td>Neutral</td>\n",
       "      <td>Neutral</td>\n",
       "      <td>NaN</td>\n",
       "      <td>NaN</td>\n",
       "      <td>NaN</td>\n",
       "      <td>Neutral</td>\n",
       "    </tr>\n",
       "  </tbody>\n",
       "</table>\n",
       "</div>"
      ],
      "text/plain": [
       "                                               tweet twitterHandlerused  \\\n",
       "0  @HatePatroller All @mindvalley students are li...        @mindvalley   \n",
       "1  RT @AlphaGammaHQ: Conferences are great platfo...        @mindvalley   \n",
       "2  @AlphaGammaHQ @wobi_en @GIFLondon @Esportsbzsu...        @mindvalley   \n",
       "3  RT @mindvalley: You asked, we delivered. ÃƒÂ°Ã...        @mindvalley   \n",
       "4  @dubeji18 Check this one out by @thesleepdocto...        @mindvalley   \n",
       "\n",
       "      label fasttext_labels Comparison_human&ft  \\\n",
       "0   Neutral         Neutral                 NaN   \n",
       "1  Positive        Positive                 NaN   \n",
       "2  Positive        Positive                 NaN   \n",
       "3   Neutral         Neutral                 NaN   \n",
       "4   Neutral         Neutral                 NaN   \n",
       "\n",
       "  Labels_Manish_Krishna_Anu_Harvinder  2nd review Final_labels  \n",
       "0                             Neutral         NaN      Neutral  \n",
       "1                             Neutral         NaN     Positive  \n",
       "2                                 NaN         NaN     Positive  \n",
       "3                                 NaN         NaN      Neutral  \n",
       "4                                 NaN         NaN      Neutral  "
      ]
     },
     "execution_count": 3,
     "metadata": {},
     "output_type": "execute_result"
    }
   ],
   "source": [
    "train.head()"
   ]
  },
  {
   "cell_type": "code",
   "execution_count": 4,
   "id": "3a95529d",
   "metadata": {},
   "outputs": [],
   "source": [
    "train.drop(['label' , 'fasttext_labels' , 'Comparison_human&ft' ,\n",
    "                        'Labels_Manish_Krishna_Anu_Harvinder' ,'2nd review' , 'twitterHandlerused' ] , axis = 1 , inplace = True)"
   ]
  },
  {
   "cell_type": "code",
   "execution_count": 5,
   "id": "15c4df9c",
   "metadata": {},
   "outputs": [
    {
     "data": {
      "text/plain": [
       "array(['Neutral', 'Positive', 'Negative'], dtype=object)"
      ]
     },
     "execution_count": 5,
     "metadata": {},
     "output_type": "execute_result"
    }
   ],
   "source": [
    "train['Final_labels'].unique()"
   ]
  },
  {
   "cell_type": "code",
   "execution_count": 6,
   "id": "9393cb93",
   "metadata": {},
   "outputs": [
    {
     "name": "stderr",
     "output_type": "stream",
     "text": [
      "[nltk_data] Downloading package words to C:\\Users\\prashant\n",
      "[nltk_data]     pathak\\AppData\\Roaming\\nltk_data...\n",
      "[nltk_data]   Package words is already up-to-date!\n"
     ]
    }
   ],
   "source": [
    "\n",
    "import re\n",
    "import nltk\n",
    "nltk.download('words')\n",
    "words = set(nltk.corpus.words.words())\n"
   ]
  },
  {
   "cell_type": "code",
   "execution_count": 7,
   "id": "5bc0e4ba",
   "metadata": {},
   "outputs": [],
   "source": [
    "def cleaner(tweet):\n",
    "    tweet = re.sub(\"@[A-Za-z0-9]+\",\"\",tweet) #Remove @ sign\n",
    "    tweet = re.sub(r\"(?:\\@|http?\\://|https?\\://|www)\\S+\", \"\", tweet) #Remove http links\n",
    "    tweet = \" \".join(tweet.split())\n",
    "    #tweet = ''.join(c for c in tweet if c not in emoji.UNICODE_EMOJI) #Remove Emojis\n",
    "    tweet = tweet.replace(\"#\", \"\").replace(\"_\", \" \") #Remove hashtag sign but keep the text\n",
    "    tweet = \" \".join(w for w in nltk.wordpunct_tokenize(tweet) \\\n",
    "         if w.lower() in words or not w.isalpha())\n",
    "    return tweet\n"
   ]
  },
  {
   "cell_type": "code",
   "execution_count": 12,
   "id": "074097ba",
   "metadata": {},
   "outputs": [],
   "source": [
    "import re\n",
    "from bs4 import BeautifulSoup\n",
    "def text_cleaning(text):\n",
    "    \n",
    "    template = re.compile(r'https?://\\S+|www\\.\\S+') #Removes website links\n",
    "    text = template.sub(r'', text)\n",
    "    \n",
    "    soup = BeautifulSoup(text,  \"html.parser\") #Removes HTML tags\n",
    "    only_text = soup.get_text()\n",
    "    text = only_text\n",
    "    \n",
    "    emoji_pattern = re.compile(\"[\"\n",
    "                               u\"\\U0001F600-\\U0001F64F\"  # emoticons\n",
    "                               u\"\\U0001F300-\\U0001F5FF\"  # symbols & pictographs\n",
    "                               u\"\\U0001F680-\\U0001F6FF\"  # transport & map symbols\n",
    "                               u\"\\U0001F1E0-\\U0001F1FF\"  # flags (iOS)\n",
    "                               u\"\\U00002702-\\U000027B0\"\n",
    "                               u\"\\U000024C2-\\U0001F251\"\n",
    "                               \"]+\", flags=re.UNICODE)\n",
    "    text = emoji_pattern.sub(r'', text)\n",
    "    \n",
    "    text = re.sub(r\"[^a-zA-Z\\d]\", \" \", text) #Remove special Charecters\n",
    "    text = re.sub(' +', ' ', text) #Remove Extra Spaces\n",
    "    text = text.strip() # remove spaces at the beginning and at the end of string\n",
    "\n",
    "    return text"
   ]
  },
  {
   "cell_type": "code",
   "execution_count": 13,
   "id": "6f763476",
   "metadata": {},
   "outputs": [],
   "source": [
    "\n",
    "from tqdm.notebook import tqdm_notebook\n",
    "import nltk\n",
    "from nltk.corpus import stopwords\n",
    "stop = stopwords.words('english')\n",
    "\n",
    "def clean(data, col):\n",
    "    \n",
    "    data[col] = data[col].str.replace('https?://\\S+|www\\.\\S+', ' social medium ', regex=True)      \n",
    "        \n",
    "    data[col] = data[col].str.lower()\n",
    "    data[col] = data[col].str.replace(\"4\", \"a\") \n",
    "    data[col] = data[col].str.replace(\"2\", \"l\")\n",
    "    data[col] = data[col].str.replace(\"5\", \"s\") \n",
    "    data[col] = data[col].str.replace(\"1\", \"i\") \n",
    "    data[col] = data[col].str.replace(\"!\", \"i\") \n",
    "    data[col] = data[col].str.replace(\"|\", \"i\", regex=False) \n",
    "    data[col] = data[col].str.replace(\"0\", \"o\") \n",
    "    data[col] = data[col].str.replace(\"l3\", \"b\") \n",
    "    data[col] = data[col].str.replace(\"7\", \"t\") \n",
    "    data[col] = data[col].str.replace(\"7\", \"+\") \n",
    "    data[col] = data[col].str.replace(\"8\", \"ate\") \n",
    "    data[col] = data[col].str.replace(\"3\", \"e\") \n",
    "    data[col] = data[col].str.replace(\"9\", \"g\")\n",
    "    data[col] = data[col].str.replace(\"6\", \"g\")\n",
    "    data[col] = data[col].str.replace(\"@\", \"a\")\n",
    "    data[col] = data[col].str.replace(\"$\", \"s\", regex=False)\n",
    "    data[col] = data[col].str.replace(\"#ofc\", \" of fuckin course \")\n",
    "    data[col] = data[col].str.replace(\"fggt\", \" faggot \")\n",
    "    data[col] = data[col].str.replace(\"your\", \" your \")\n",
    "    data[col] = data[col].str.replace(\"self\", \" self \")\n",
    "    data[col] = data[col].str.replace(\"cuntbag\", \" cunt bag \")\n",
    "    data[col] = data[col].str.replace(\"fartchina\", \" fart china \")    \n",
    "    data[col] = data[col].str.replace(\"youi\", \" you i \")\n",
    "    data[col] = data[col].str.replace(\"cunti\", \" cunt i \")\n",
    "    data[col] = data[col].str.replace(\"sucki\", \" suck i \")\n",
    "    data[col] = data[col].str.replace(\"pagedelete\", \" page delete \")\n",
    "    data[col] = data[col].str.replace(\"cuntsi\", \" cuntsi \")\n",
    "    data[col] = data[col].str.replace(\"i'm\", \" i am \")\n",
    "    data[col] = data[col].str.replace(\"offuck\", \" of fuck \")\n",
    "    data[col] = data[col].str.replace(\"centraliststupid\", \" central ist stupid \")\n",
    "    data[col] = data[col].str.replace(\"hitleri\", \" hitler i \")\n",
    "    data[col] = data[col].str.replace(\"i've\", \" i have \")\n",
    "    data[col] = data[col].str.replace(\"i'll\", \" sick \")\n",
    "    data[col] = data[col].str.replace(\"fuck\", \" fuck \")\n",
    "    data[col] = data[col].str.replace(\"f u c k\", \" fuck \")\n",
    "    data[col] = data[col].str.replace(\"shit\", \" shit \")\n",
    "    data[col] = data[col].str.replace(\"bunksteve\", \" bunk steve \")\n",
    "    data[col] = data[col].str.replace('wikipedia', ' social medium ')\n",
    "    data[col] = data[col].str.replace(\"faggot\", \" faggot \")\n",
    "    data[col] = data[col].str.replace(\"delanoy\", \" delanoy \")\n",
    "    data[col] = data[col].str.replace(\"jewish\", \" jewish \")\n",
    "    data[col] = data[col].str.replace(\"sexsex\", \" sex \")\n",
    "    data[col] = data[col].str.replace(\"allii\", \" all ii \")\n",
    "    data[col] = data[col].str.replace(\"i'd\", \" i had \")\n",
    "    data[col] = data[col].str.replace(\"'s\", \" is \")\n",
    "    data[col] = data[col].str.replace(\"youbollocks\", \" you bollocks \")\n",
    "    data[col] = data[col].str.replace(\"dick\", \" dick \")\n",
    "    data[col] = data[col].str.replace(\"cuntsi\", \" cuntsi \")\n",
    "    data[col] = data[col].str.replace(\"mothjer\", \" mother \")\n",
    "    data[col] = data[col].str.replace(\"cuntfranks\", \" cunt \")\n",
    "    data[col] = data[col].str.replace(\"ullmann\", \" jewish \")\n",
    "    data[col] = data[col].str.replace(\"mr.\", \" mister \", regex=False)\n",
    "    data[col] = data[col].str.replace(\"aidsaids\", \" aids \")\n",
    "    data[col] = data[col].str.replace(\"njgw\", \" nigger \")\n",
    "    data[col] = data[col].str.replace(\"wiki\", \" social medium \")\n",
    "    data[col] = data[col].str.replace(\"administrator\", \" admin \")\n",
    "    data[col] = data[col].str.replace(\"gamaliel\", \" jewish \")\n",
    "    data[col] = data[col].str.replace(\"rvv\", \" vanadalism \")\n",
    "    data[col] = data[col].str.replace(\"admins\", \" admin \")\n",
    "    data[col] = data[col].str.replace(\"pensnsnniensnsn\", \" penis \")\n",
    "    data[col] = data[col].str.replace(\"pneis\", \" penis \")\n",
    "    data[col] = data[col].str.replace(\"pennnis\", \" penis \")\n",
    "    data[col] = data[col].str.replace(\"pov.\", \" point of view \", regex=False)\n",
    "    data[col] = data[col].str.replace(\"vandalising\", \" vandalism \")\n",
    "    data[col] = data[col].str.replace(\"cock\", \" dick \")\n",
    "    data[col] = data[col].str.replace(\"asshole\", \" asshole \")\n",
    "    data[col] = data[col].str.replace(\"youi\", \" you \")\n",
    "    data[col] = data[col].str.replace(\"afd\", \" all fucking day \")\n",
    "    data[col] = data[col].str.replace(\"sockpuppets\", \" sockpuppetry \")\n",
    "    data[col] = data[col].str.replace(\"iiprick\", \" iprick \")\n",
    "    data[col] = data[col].str.replace(\"penisi\", \" penis \")\n",
    "    data[col] = data[col].str.replace(\"warrior\", \" warrior \")\n",
    "    data[col] = data[col].str.replace(\"loil\", \" laughing out insanely loud \")\n",
    "    data[col] = data[col].str.replace(\"vandalise\", \" vanadalism \")\n",
    "    data[col] = data[col].str.replace(\"helli\", \" helli \")\n",
    "    data[col] = data[col].str.replace(\"lunchablesi\", \" lunchablesi \")\n",
    "    data[col] = data[col].str.replace(\"special\", \" special \")\n",
    "    data[col] = data[col].str.replace(\"ilol\", \" i lol \")\n",
    "    data[col] = data[col].str.replace(r'\\b[uU]\\b', 'you', regex=True)\n",
    "    data[col] = data[col].str.replace(r\"what's\", \"what is \")\n",
    "    data[col] = data[col].str.replace(r\"\\'s\", \" is \", regex=False)\n",
    "    data[col] = data[col].str.replace(r\"\\'ve\", \" have \", regex=False)\n",
    "    data[col] = data[col].str.replace(r\"can't\", \"cannot \")\n",
    "    data[col] = data[col].str.replace(r\"n't\", \" not \")\n",
    "    data[col] = data[col].str.replace(r\"i'm\", \"i am \")\n",
    "    data[col] = data[col].str.replace(r\"\\'re\", \" are \", regex=False)\n",
    "    data[col] = data[col].str.replace(r\"\\'d\", \" would \", regex=False)\n",
    "    data[col] = data[col].str.replace(r\"\\'ll\", \" will \", regex=False)\n",
    "    data[col] = data[col].str.replace(r\"\\'scuse\", \" excuse \", regex=False)\n",
    "    data[col] = data[col].str.replace('\\s+', ' ', regex=True)  # will remove more than one whitespace character\n",
    "#     text = re.sub(r'\\b([^\\W\\d_]+)(\\s+\\1)+\\b', r'\\1', re.sub(r'\\W+', ' ', text).strip(), flags=re.I)  # remove repeating words coming immediately one after another\n",
    "    data[col] = data[col].str.replace(r'(.)\\1+', r'\\1\\1', regex=True) # 2 or more characters are replaced by 2 characters\n",
    "#     text = re.sub(r'((\\b\\w+\\b.{1,2}\\w+\\b)+).+\\1', r'\\1', text, flags = re.I)\n",
    "    data[col] = data[col].str.replace(\"[:|♣|'|§|♠|*|/|?|=|%|&|-|#|•|~|^|>|<|►|_]\", '', regex=True)\n",
    "    \n",
    "    \n",
    "    data[col] = data[col].str.replace(r\"what's\", \"what is \")    \n",
    "    data[col] = data[col].str.replace(r\"\\'ve\", \" have \", regex=False)\n",
    "    data[col] = data[col].str.replace(r\"can't\", \"cannot \")\n",
    "    data[col] = data[col].str.replace(r\"n't\", \" not \", regex=False)\n",
    "    data[col] = data[col].str.replace(r\"i'm\", \"i am \", regex=False)\n",
    "    data[col] = data[col].str.replace(r\"\\'re\", \" are \", regex=False)\n",
    "    data[col] = data[col].str.replace(r\"\\'d\", \" would \", regex=False)\n",
    "    data[col] = data[col].str.replace(r\"\\'ll\", \" will \", regex=False)\n",
    "    data[col] = data[col].str.replace(r\"\\'scuse\", \" excuse \", regex=False)\n",
    "    data[col] = data[col].str.replace(r\"\\'s\", \" \", regex=False)\n",
    "    data[col] = data[col].str.replace(r\"en\" , \"\" , regex = False)\n",
    "    # Clean some punctutations\n",
    "    data[col] = data[col].str.replace('\\n', ' \\n ')\n",
    "    data[col] = data[col].str.replace(r'([a-zA-Z]+)([/!?.])([a-zA-Z]+)',r'\\1 \\2 \\3', regex=True)\n",
    "    # Replace repeating characters more than 3 times to length of 3\n",
    "    data[col] = data[col].str.replace(r'([*!?\\'])\\1\\1{2,}',r'\\1\\1\\1', regex=True)    \n",
    "    # Add space around repeating characters\n",
    "    data[col] = data[col].str.replace(r'([*!?\\']+)',r' \\1 ', regex=True)    \n",
    "    # patterns with repeating characters \n",
    "    data[col] = data[col].str.replace(r'([a-zA-Z])\\1{2,}\\b',r'\\1\\1', regex=True)\n",
    "    data[col] = data[col].str.replace(r'([a-zA-Z])\\1\\1{2,}\\B',r'\\1\\1\\1', regex=True)\n",
    "    data[col] = data[col].str.replace(r'[ ]{2,}',' ', regex=True).str.strip()   \n",
    "    data[col] = data[col].str.replace(r'[ ]{2,}',' ', regex=True).str.strip()   \n",
    "    data[col] = data[col].apply(lambda x: ' '.join([word for word in x.split() if word not in (stop)]))\n",
    "    tqdm_notebook.pandas()\n",
    "    data[col] = data[col].progress_apply(text_cleaning)\n",
    "    return data"
   ]
  },
  {
   "cell_type": "code",
   "execution_count": null,
   "id": "1c0c50da",
   "metadata": {},
   "outputs": [],
   "source": []
  },
  {
   "cell_type": "code",
   "execution_count": 14,
   "id": "365941d5",
   "metadata": {},
   "outputs": [],
   "source": [
    "train['tweet'] = train['tweet'].apply(cleaner)"
   ]
  },
  {
   "cell_type": "code",
   "execution_count": 15,
   "id": "fdfe0631",
   "metadata": {},
   "outputs": [
    {
     "name": "stderr",
     "output_type": "stream",
     "text": [
      "c:\\users\\prashant pathak\\appdata\\local\\programs\\python\\python38\\lib\\site-packages\\bs4\\__init__.py:332: MarkupResemblesLocatorWarning: \".\" looks like a filename, not markup. You should probably open this file and pass the filehandle into Beautiful Soup.\n",
      "  warnings.warn(\n"
     ]
    }
   ],
   "source": [
    "train['tweet'] = train['tweet'].apply(text_cleaning)"
   ]
  },
  {
   "cell_type": "code",
   "execution_count": 16,
   "id": "905a7077",
   "metadata": {},
   "outputs": [
    {
     "data": {
      "application/vnd.jupyter.widget-view+json": {
       "model_id": "79332b7679ba49e2b76339b518c30fff",
       "version_major": 2,
       "version_minor": 0
      },
      "text/plain": [
       "  0%|          | 0/4104 [00:00<?, ?it/s]"
      ]
     },
     "metadata": {},
     "output_type": "display_data"
    }
   ],
   "source": [
    "train = clean(train , 'tweet')"
   ]
  },
  {
   "cell_type": "code",
   "execution_count": 17,
   "id": "3806ea20",
   "metadata": {},
   "outputs": [
    {
     "data": {
      "text/html": [
       "<div>\n",
       "<style scoped>\n",
       "    .dataframe tbody tr th:only-of-type {\n",
       "        vertical-align: middle;\n",
       "    }\n",
       "\n",
       "    .dataframe tbody tr th {\n",
       "        vertical-align: top;\n",
       "    }\n",
       "\n",
       "    .dataframe thead th {\n",
       "        text-align: right;\n",
       "    }\n",
       "</style>\n",
       "<table border=\"1\" class=\"dataframe\">\n",
       "  <thead>\n",
       "    <tr style=\"text-align: right;\">\n",
       "      <th></th>\n",
       "      <th>tweet</th>\n",
       "      <th>Final_labels</th>\n",
       "    </tr>\n",
       "  </thead>\n",
       "  <tbody>\n",
       "    <tr>\n",
       "      <th>0</th>\n",
       "      <td>like</td>\n",
       "      <td>Neutral</td>\n",
       "    </tr>\n",
       "    <tr>\n",
       "      <th>1</th>\n",
       "      <td>great learn exchange meet like minded people b...</td>\n",
       "      <td>Positive</td>\n",
       "    </tr>\n",
       "    <tr>\n",
       "      <th>2</th>\n",
       "      <td>awesome list humble thank us</td>\n",
       "      <td>Positive</td>\n",
       "    </tr>\n",
       "    <tr>\n",
       "      <th>3</th>\n",
       "      <td>us make free evt</td>\n",
       "      <td>Neutral</td>\n",
       "    </tr>\n",
       "    <tr>\n",
       "      <th>4</th>\n",
       "      <td>check one highly consideration natural help ma...</td>\n",
       "      <td>Neutral</td>\n",
       "    </tr>\n",
       "  </tbody>\n",
       "</table>\n",
       "</div>"
      ],
      "text/plain": [
       "                                               tweet Final_labels\n",
       "0                                               like      Neutral\n",
       "1  great learn exchange meet like minded people b...     Positive\n",
       "2                       awesome list humble thank us     Positive\n",
       "3                                   us make free evt      Neutral\n",
       "4  check one highly consideration natural help ma...      Neutral"
      ]
     },
     "execution_count": 17,
     "metadata": {},
     "output_type": "execute_result"
    }
   ],
   "source": [
    "train.head(5)"
   ]
  },
  {
   "cell_type": "code",
   "execution_count": null,
   "id": "764720a2",
   "metadata": {},
   "outputs": [],
   "source": []
  },
  {
   "cell_type": "code",
   "execution_count": 18,
   "id": "be088c15",
   "metadata": {},
   "outputs": [],
   "source": [
    "labels = np.array(train['Final_labels'])"
   ]
  },
  {
   "cell_type": "code",
   "execution_count": 19,
   "id": "b531eaec",
   "metadata": {},
   "outputs": [
    {
     "name": "stdout",
     "output_type": "stream",
     "text": [
      "4104\n"
     ]
    }
   ],
   "source": [
    "print(len(labels))"
   ]
  },
  {
   "cell_type": "code",
   "execution_count": 20,
   "id": "ef124256",
   "metadata": {},
   "outputs": [
    {
     "data": {
      "text/html": [
       "<div>\n",
       "<style scoped>\n",
       "    .dataframe tbody tr th:only-of-type {\n",
       "        vertical-align: middle;\n",
       "    }\n",
       "\n",
       "    .dataframe tbody tr th {\n",
       "        vertical-align: top;\n",
       "    }\n",
       "\n",
       "    .dataframe thead th {\n",
       "        text-align: right;\n",
       "    }\n",
       "</style>\n",
       "<table border=\"1\" class=\"dataframe\">\n",
       "  <thead>\n",
       "    <tr style=\"text-align: right;\">\n",
       "      <th></th>\n",
       "      <th>tweet</th>\n",
       "      <th>Final_labels</th>\n",
       "    </tr>\n",
       "  </thead>\n",
       "  <tbody>\n",
       "    <tr>\n",
       "      <th>0</th>\n",
       "      <td>like</td>\n",
       "      <td>Neutral</td>\n",
       "    </tr>\n",
       "    <tr>\n",
       "      <th>1</th>\n",
       "      <td>great learn exchange meet like minded people b...</td>\n",
       "      <td>Positive</td>\n",
       "    </tr>\n",
       "  </tbody>\n",
       "</table>\n",
       "</div>"
      ],
      "text/plain": [
       "                                               tweet Final_labels\n",
       "0                                               like      Neutral\n",
       "1  great learn exchange meet like minded people b...     Positive"
      ]
     },
     "execution_count": 20,
     "metadata": {},
     "output_type": "execute_result"
    }
   ],
   "source": [
    "train.head(2)"
   ]
  },
  {
   "cell_type": "code",
   "execution_count": 21,
   "id": "712facd0",
   "metadata": {},
   "outputs": [],
   "source": [
    "train.drop('Final_labels' , axis = 1 , inplace = True)"
   ]
  },
  {
   "cell_type": "code",
   "execution_count": 22,
   "id": "6f18afdf",
   "metadata": {},
   "outputs": [
    {
     "data": {
      "text/plain": [
       "4104"
      ]
     },
     "execution_count": 22,
     "metadata": {},
     "output_type": "execute_result"
    }
   ],
   "source": [
    "len(labels)"
   ]
  },
  {
   "cell_type": "code",
   "execution_count": 23,
   "id": "5d83239a",
   "metadata": {},
   "outputs": [
    {
     "data": {
      "text/plain": [
       "(4104, 1)"
      ]
     },
     "execution_count": 23,
     "metadata": {},
     "output_type": "execute_result"
    }
   ],
   "source": [
    "train.shape"
   ]
  },
  {
   "cell_type": "code",
   "execution_count": 24,
   "id": "f8d8ad82",
   "metadata": {},
   "outputs": [
    {
     "name": "stdout",
     "output_type": "stream",
     "text": [
      "[0 2 2 ... 1 1 0]\n"
     ]
    }
   ],
   "source": [
    "\n",
    "j = []\n",
    "for i in range(len(labels)):\n",
    "    if labels[i] == 'Neutral':\n",
    "        j.append(0)\n",
    "    if labels[i] == 'Negative':\n",
    "        j.append(1)\n",
    "    if labels[i] == 'Positive':\n",
    "        j.append(2)\n",
    "j = np.array(j)\n",
    "print(j)\n",
    "labels = tf.keras.utils.to_categorical(j, 3, dtype=\"float32\")\n"
   ]
  },
  {
   "cell_type": "code",
   "execution_count": null,
   "id": "212ec41b",
   "metadata": {},
   "outputs": [],
   "source": []
  },
  {
   "cell_type": "code",
   "execution_count": 25,
   "id": "6c12438c",
   "metadata": {},
   "outputs": [
    {
     "name": "stdout",
     "output_type": "stream",
     "text": [
      "[[1. 0. 0.]\n",
      " [0. 0. 1.]\n",
      " [0. 0. 1.]\n",
      " ...\n",
      " [0. 1. 0.]\n",
      " [0. 1. 0.]\n",
      " [1. 0. 0.]]\n"
     ]
    }
   ],
   "source": [
    "print(labels)"
   ]
  },
  {
   "cell_type": "code",
   "execution_count": 26,
   "id": "b0f7a783",
   "metadata": {},
   "outputs": [],
   "source": [
    "temp = train['tweet'].values.tolist()"
   ]
  },
  {
   "cell_type": "code",
   "execution_count": 27,
   "id": "a359237a",
   "metadata": {},
   "outputs": [
    {
     "name": "stdout",
     "output_type": "stream",
     "text": [
      "[['like'], ['great', 'learn', 'exchange', 'meet', 'like', 'minded', 'people', 'build'], ['awesome', 'list', 'humble', 'thank', 'us'], ['us', 'make', 'free', 'evt'], ['check', 'one', 'highly', 'consideration', 'natural', 'help', 'master', 'sleep'], ['hey', 'come', 'join', 'free', 'summit', 'es', 'share', 'well', 'waiting', 'join'], ['also', 'try', 'tea', 'eo', 'ao', 'going', 'bed', 'amazing', 'see', 'immediate'], ['interesting', 'thanks', 'appreciate'], ['wonderful', 'speaking', 'time', 'rife', 'time', 'redefine'], ['great', 'one', 'mind', 'us', 'eastern', 'knowledge', 'western', 'colonialism', 'much', 'shame', 'mockery', 'eastern', 'west', 'much', 'self', 'rejection']]\n"
     ]
    }
   ],
   "source": [
    "def sent_to_words(sentences):\n",
    "    for sentence in sentences:\n",
    "        yield(gensim.utils.simple_preprocess(str(sentence), deacc=True))  # deacc=True removes punctuations\n",
    "        \n",
    "\n",
    "data_words = list(sent_to_words(temp))\n",
    "\n",
    "print(data_words[:10])"
   ]
  },
  {
   "cell_type": "code",
   "execution_count": 28,
   "id": "834f0c56",
   "metadata": {},
   "outputs": [],
   "source": [
    "def detokenize(text):\n",
    "    return TreebankWordDetokenizer().detokenize(text)"
   ]
  },
  {
   "cell_type": "code",
   "execution_count": 29,
   "id": "026e4350",
   "metadata": {},
   "outputs": [
    {
     "name": "stdout",
     "output_type": "stream",
     "text": [
      "['like', 'great learn exchange meet like minded people build', 'awesome list humble thank us', 'us make free evt', 'check one highly consideration natural help master sleep']\n"
     ]
    }
   ],
   "source": [
    "data = []\n",
    "for i in range(len(data_words)):\n",
    "    data.append(detokenize(data_words[i]))\n",
    "print(data[:5])"
   ]
  },
  {
   "cell_type": "code",
   "execution_count": 30,
   "id": "8c8ff528",
   "metadata": {},
   "outputs": [],
   "source": [
    "data = np.array(data)"
   ]
  },
  {
   "cell_type": "code",
   "execution_count": 31,
   "id": "a7262669",
   "metadata": {},
   "outputs": [
    {
     "name": "stdout",
     "output_type": "stream",
     "text": [
      "[[   0    0    0 ...    0    0   11]\n",
      " [   0    0    0 ... 1236   10  603]\n",
      " [   0    0    0 ... 1469    7   22]\n",
      " ...\n",
      " [   0    0    0 ...   51  601   41]\n",
      " [   0    0    0 ...    0 1849 2282]\n",
      " [   0    0    0 ... 1825  198 1461]]\n"
     ]
    }
   ],
   "source": [
    "from keras.models import Sequential\n",
    "from keras import layers\n",
    "from tensorflow.keras.optimizers import RMSprop,Adam\n",
    "from keras.preprocessing.text import Tokenizer\n",
    "from keras.preprocessing.sequence import pad_sequences\n",
    "from keras import regularizers\n",
    "from keras import backend as K\n",
    "from keras.callbacks import ModelCheckpoint\n",
    "max_words = 5000\n",
    "max_len = 200\n",
    "\n",
    "tokenizer = Tokenizer(num_words=max_words)\n",
    "tokenizer.fit_on_texts(data)\n",
    "sequences = tokenizer.texts_to_sequences(data)\n",
    "tweets = pad_sequences(sequences, maxlen=max_len)\n",
    "print(tweets)"
   ]
  },
  {
   "cell_type": "code",
   "execution_count": 32,
   "id": "3947fcab",
   "metadata": {},
   "outputs": [
    {
     "name": "stdout",
     "output_type": "stream",
     "text": [
      "[[1. 0. 0.]\n",
      " [0. 0. 1.]\n",
      " [0. 0. 1.]\n",
      " ...\n",
      " [0. 1. 0.]\n",
      " [0. 1. 0.]\n",
      " [1. 0. 0.]]\n"
     ]
    }
   ],
   "source": [
    "print(labels)"
   ]
  },
  {
   "cell_type": "code",
   "execution_count": 36,
   "id": "9ba7503a",
   "metadata": {},
   "outputs": [],
   "source": [
    "X_train, X_test, y_train, y_test = train_test_split(tweets, labels, test_size=0.2, random_state=42)"
   ]
  },
  {
   "cell_type": "code",
   "execution_count": null,
   "id": "dbb4bc85",
   "metadata": {},
   "outputs": [],
   "source": []
  },
  {
   "cell_type": "code",
   "execution_count": 37,
   "id": "4c703594",
   "metadata": {},
   "outputs": [
    {
     "name": "stdout",
     "output_type": "stream",
     "text": [
      "WARNING:tensorflow:`period` argument is deprecated. Please use `save_freq` to specify the frequency in number of batches seen.\n",
      "Epoch 1/70\n",
      "103/103 [==============================] - ETA: 0s - loss: 0.8928 - accuracy: 0.6442\n",
      "Epoch 00001: val_accuracy improved from -inf to 0.67600, saving model to best_model2.hdf5\n",
      "103/103 [==============================] - 11s 37ms/step - loss: 0.8928 - accuracy: 0.6442 - val_loss: 0.7959 - val_accuracy: 0.6760\n",
      "Epoch 2/70\n",
      "102/103 [============================>.] - ETA: 0s - loss: 0.8109 - accuracy: 0.6513\n",
      "Epoch 00002: val_accuracy improved from 0.67600 to 0.67966, saving model to best_model2.hdf5\n",
      "103/103 [==============================] - 2s 24ms/step - loss: 0.8094 - accuracy: 0.6525 - val_loss: 0.7530 - val_accuracy: 0.6797\n",
      "Epoch 3/70\n",
      "103/103 [==============================] - ETA: 0s - loss: 0.7391 - accuracy: 0.6683\n",
      "Epoch 00003: val_accuracy improved from 0.67966 to 0.70280, saving model to best_model2.hdf5\n",
      "103/103 [==============================] - 3s 24ms/step - loss: 0.7391 - accuracy: 0.6683 - val_loss: 0.6746 - val_accuracy: 0.7028\n",
      "Epoch 4/70\n",
      "102/103 [============================>.] - ETA: 0s - loss: 0.6573 - accuracy: 0.7120\n",
      "Epoch 00004: val_accuracy improved from 0.70280 to 0.75152, saving model to best_model2.hdf5\n",
      "103/103 [==============================] - 2s 24ms/step - loss: 0.6563 - accuracy: 0.7118 - val_loss: 0.6160 - val_accuracy: 0.7515\n",
      "Epoch 5/70\n",
      "103/103 [==============================] - ETA: 0s - loss: 0.5818 - accuracy: 0.7685\n",
      "Epoch 00005: val_accuracy improved from 0.75152 to 0.78928, saving model to best_model2.hdf5\n",
      "103/103 [==============================] - 4s 34ms/step - loss: 0.5818 - accuracy: 0.7685 - val_loss: 0.5506 - val_accuracy: 0.7893\n",
      "Epoch 6/70\n",
      "103/103 [==============================] - ETA: 0s - loss: 0.5118 - accuracy: 0.8102\n",
      "Epoch 00006: val_accuracy improved from 0.78928 to 0.81486, saving model to best_model2.hdf5\n",
      "103/103 [==============================] - 3s 31ms/step - loss: 0.5118 - accuracy: 0.8102 - val_loss: 0.5086 - val_accuracy: 0.8149\n",
      "Epoch 7/70\n",
      "101/103 [============================>.] - ETA: 0s - loss: 0.4589 - accuracy: 0.8360\n",
      "Epoch 00007: val_accuracy improved from 0.81486 to 0.83191, saving model to best_model2.hdf5\n",
      "103/103 [==============================] - 3s 33ms/step - loss: 0.4568 - accuracy: 0.8364 - val_loss: 0.4919 - val_accuracy: 0.8319\n",
      "Epoch 8/70\n",
      "103/103 [==============================] - ETA: 0s - loss: 0.4225 - accuracy: 0.8431\n",
      "Epoch 00008: val_accuracy improved from 0.83191 to 0.83678, saving model to best_model2.hdf5\n",
      "103/103 [==============================] - 3s 26ms/step - loss: 0.4225 - accuracy: 0.8431 - val_loss: 0.4764 - val_accuracy: 0.8368\n",
      "Epoch 9/70\n",
      "101/103 [============================>.] - ETA: 0s - loss: 0.3876 - accuracy: 0.8629\n",
      "Epoch 00009: val_accuracy did not improve from 0.83678\n",
      "103/103 [==============================] - 3s 26ms/step - loss: 0.3883 - accuracy: 0.8623 - val_loss: 0.4774 - val_accuracy: 0.8246\n",
      "Epoch 10/70\n",
      "103/103 [==============================] - ETA: 0s - loss: 0.3682 - accuracy: 0.8663\n",
      "Epoch 00010: val_accuracy did not improve from 0.83678\n",
      "103/103 [==============================] - 3s 25ms/step - loss: 0.3682 - accuracy: 0.8663 - val_loss: 0.4783 - val_accuracy: 0.8331\n",
      "Epoch 11/70\n",
      "102/103 [============================>.] - ETA: 0s - loss: 0.3515 - accuracy: 0.8759\n",
      "Epoch 00011: val_accuracy did not improve from 0.83678\n",
      "103/103 [==============================] - 3s 26ms/step - loss: 0.3502 - accuracy: 0.8763 - val_loss: 0.4737 - val_accuracy: 0.8283\n",
      "Epoch 12/70\n",
      "102/103 [============================>.] - ETA: 0s - loss: 0.3263 - accuracy: 0.8824\n",
      "Epoch 00012: val_accuracy did not improve from 0.83678\n",
      "103/103 [==============================] - 3s 26ms/step - loss: 0.3273 - accuracy: 0.8821 - val_loss: 0.4744 - val_accuracy: 0.8295\n",
      "Epoch 13/70\n",
      "103/103 [==============================] - ETA: 0s - loss: 0.3181 - accuracy: 0.8882\n",
      "Epoch 00013: val_accuracy did not improve from 0.83678\n",
      "103/103 [==============================] - 3s 29ms/step - loss: 0.3181 - accuracy: 0.8882 - val_loss: 0.4867 - val_accuracy: 0.8197\n",
      "Epoch 14/70\n",
      "102/103 [============================>.] - ETA: 0s - loss: 0.3143 - accuracy: 0.8876\n",
      "Epoch 00014: val_accuracy improved from 0.83678 to 0.83800, saving model to best_model2.hdf5\n",
      "103/103 [==============================] - 3s 27ms/step - loss: 0.3132 - accuracy: 0.8879 - val_loss: 0.4783 - val_accuracy: 0.8380\n",
      "Epoch 15/70\n",
      "102/103 [============================>.] - ETA: 0s - loss: 0.2894 - accuracy: 0.8958\n",
      "Epoch 00015: val_accuracy did not improve from 0.83800\n",
      "103/103 [==============================] - 3s 27ms/step - loss: 0.2892 - accuracy: 0.8958 - val_loss: 0.4909 - val_accuracy: 0.8331\n",
      "Epoch 16/70\n",
      "102/103 [============================>.] - ETA: 0s - loss: 0.2766 - accuracy: 0.8961\n",
      "Epoch 00016: val_accuracy did not improve from 0.83800\n",
      "103/103 [==============================] - 3s 27ms/step - loss: 0.2782 - accuracy: 0.8955 - val_loss: 0.4917 - val_accuracy: 0.8307\n",
      "Epoch 17/70\n",
      "103/103 [==============================] - ETA: 0s - loss: 0.2821 - accuracy: 0.9010\n",
      "Epoch 00017: val_accuracy did not improve from 0.83800\n",
      "103/103 [==============================] - 3s 27ms/step - loss: 0.2821 - accuracy: 0.9010 - val_loss: 0.4928 - val_accuracy: 0.8368\n",
      "Epoch 18/70\n",
      "101/103 [============================>.] - ETA: 0s - loss: 0.2703 - accuracy: 0.9032\n",
      "Epoch 00018: val_accuracy did not improve from 0.83800\n",
      "103/103 [==============================] - 3s 27ms/step - loss: 0.2698 - accuracy: 0.9031 - val_loss: 0.5239 - val_accuracy: 0.8343\n",
      "Epoch 19/70\n",
      "103/103 [==============================] - ETA: 0s - loss: 0.2641 - accuracy: 0.9092\n",
      "Epoch 00019: val_accuracy improved from 0.83800 to 0.84044, saving model to best_model2.hdf5\n",
      "103/103 [==============================] - 3s 28ms/step - loss: 0.2641 - accuracy: 0.9092 - val_loss: 0.5194 - val_accuracy: 0.8404\n",
      "Epoch 20/70\n",
      "103/103 [==============================] - ETA: 0s - loss: 0.2496 - accuracy: 0.9108\n",
      "Epoch 00020: val_accuracy did not improve from 0.84044\n",
      "103/103 [==============================] - 3s 27ms/step - loss: 0.2496 - accuracy: 0.9108 - val_loss: 0.5216 - val_accuracy: 0.8197\n",
      "Epoch 21/70\n",
      "103/103 [==============================] - ETA: 0s - loss: 0.2455 - accuracy: 0.9095\n",
      "Epoch 00021: val_accuracy did not improve from 0.84044\n",
      "103/103 [==============================] - 3s 32ms/step - loss: 0.2455 - accuracy: 0.9095 - val_loss: 0.5126 - val_accuracy: 0.8295\n",
      "Epoch 22/70\n",
      "102/103 [============================>.] - ETA: 0s - loss: 0.2346 - accuracy: 0.9157\n",
      "Epoch 00022: val_accuracy did not improve from 0.84044\n",
      "103/103 [==============================] - 3s 32ms/step - loss: 0.2343 - accuracy: 0.9159 - val_loss: 0.5133 - val_accuracy: 0.8343\n",
      "Epoch 23/70\n",
      "103/103 [==============================] - ETA: 0s - loss: 0.2318 - accuracy: 0.9208\n",
      "Epoch 00023: val_accuracy did not improve from 0.84044\n",
      "103/103 [==============================] - 3s 34ms/step - loss: 0.2318 - accuracy: 0.9208 - val_loss: 0.5257 - val_accuracy: 0.8319\n",
      "Epoch 24/70\n",
      "101/103 [============================>.] - ETA: 0s - loss: 0.2372 - accuracy: 0.9192\n",
      "Epoch 00024: val_accuracy did not improve from 0.84044\n",
      "103/103 [==============================] - 3s 28ms/step - loss: 0.2367 - accuracy: 0.9196 - val_loss: 0.5181 - val_accuracy: 0.8343\n",
      "Epoch 25/70\n",
      "103/103 [==============================] - ETA: 0s - loss: 0.2234 - accuracy: 0.9226\n",
      "Epoch 00025: val_accuracy did not improve from 0.84044\n",
      "103/103 [==============================] - 3s 29ms/step - loss: 0.2234 - accuracy: 0.9226 - val_loss: 0.5255 - val_accuracy: 0.8404\n",
      "Epoch 26/70\n",
      "103/103 [==============================] - ETA: 0s - loss: 0.2147 - accuracy: 0.9232\n",
      "Epoch 00026: val_accuracy did not improve from 0.84044\n",
      "103/103 [==============================] - 3s 28ms/step - loss: 0.2147 - accuracy: 0.9232 - val_loss: 0.5291 - val_accuracy: 0.8283\n",
      "Epoch 27/70\n",
      "102/103 [============================>.] - ETA: 0s - loss: 0.2129 - accuracy: 0.9225\n",
      "Epoch 00027: val_accuracy did not improve from 0.84044\n",
      "103/103 [==============================] - 3s 25ms/step - loss: 0.2128 - accuracy: 0.9226 - val_loss: 0.5344 - val_accuracy: 0.8343\n",
      "Epoch 28/70\n",
      "102/103 [============================>.] - ETA: 0s - loss: 0.2104 - accuracy: 0.9277\n",
      "Epoch 00028: val_accuracy did not improve from 0.84044\n",
      "103/103 [==============================] - 3s 30ms/step - loss: 0.2098 - accuracy: 0.9278 - val_loss: 0.5331 - val_accuracy: 0.8295\n",
      "Epoch 29/70\n",
      "102/103 [============================>.] - ETA: 0s - loss: 0.2112 - accuracy: 0.9292\n",
      "Epoch 00029: val_accuracy did not improve from 0.84044\n",
      "103/103 [==============================] - 3s 27ms/step - loss: 0.2105 - accuracy: 0.9296 - val_loss: 0.5403 - val_accuracy: 0.8319\n",
      "Epoch 30/70\n",
      "102/103 [============================>.] - ETA: 0s - loss: 0.2014 - accuracy: 0.9317\n",
      "Epoch 00030: val_accuracy did not improve from 0.84044\n",
      "103/103 [==============================] - 3s 33ms/step - loss: 0.2009 - accuracy: 0.9318 - val_loss: 0.5532 - val_accuracy: 0.8343\n",
      "Epoch 31/70\n",
      "102/103 [============================>.] - ETA: 0s - loss: 0.1902 - accuracy: 0.9338 ETA: 0s - loss: 0\n",
      "Epoch 00031: val_accuracy did not improve from 0.84044\n",
      "103/103 [==============================] - 3s 30ms/step - loss: 0.1900 - accuracy: 0.9339 - val_loss: 0.5578 - val_accuracy: 0.8295\n",
      "Epoch 32/70\n",
      "103/103 [==============================] - ETA: 0s - loss: 0.1935 - accuracy: 0.9348\n",
      "Epoch 00032: val_accuracy did not improve from 0.84044\n",
      "103/103 [==============================] - 3s 26ms/step - loss: 0.1935 - accuracy: 0.9348 - val_loss: 0.5620 - val_accuracy: 0.8380\n",
      "Epoch 33/70\n",
      "101/103 [============================>.] - ETA: 0s - loss: 0.1891 - accuracy: 0.9347\n",
      "Epoch 00033: val_accuracy did not improve from 0.84044\n",
      "103/103 [==============================] - 3s 32ms/step - loss: 0.1874 - accuracy: 0.9354 - val_loss: 0.5734 - val_accuracy: 0.8319\n",
      "Epoch 34/70\n",
      "103/103 [==============================] - ETA: 0s - loss: 0.1863 - accuracy: 0.9403\n",
      "Epoch 00034: val_accuracy did not improve from 0.84044\n",
      "103/103 [==============================] - 3s 27ms/step - loss: 0.1863 - accuracy: 0.9403 - val_loss: 0.5804 - val_accuracy: 0.8210\n",
      "Epoch 35/70\n",
      "102/103 [============================>.] - ETA: 0s - loss: 0.1889 - accuracy: 0.9406\n",
      "Epoch 00035: val_accuracy did not improve from 0.84044\n",
      "103/103 [==============================] - 3s 30ms/step - loss: 0.1879 - accuracy: 0.9409 - val_loss: 0.5777 - val_accuracy: 0.8295\n",
      "Epoch 36/70\n",
      "103/103 [==============================] - ETA: 0s - loss: 0.1883 - accuracy: 0.9357\n",
      "Epoch 00036: val_accuracy did not improve from 0.84044\n",
      "103/103 [==============================] - 4s 41ms/step - loss: 0.1883 - accuracy: 0.9357 - val_loss: 0.5728 - val_accuracy: 0.8222\n",
      "Epoch 37/70\n",
      "103/103 [==============================] - ETA: 0s - loss: 0.1805 - accuracy: 0.9418\n",
      "Epoch 00037: val_accuracy did not improve from 0.84044\n",
      "103/103 [==============================] - 3s 33ms/step - loss: 0.1805 - accuracy: 0.9418 - val_loss: 0.5777 - val_accuracy: 0.8270\n",
      "Epoch 38/70\n",
      "103/103 [==============================] - ETA: 0s - loss: 0.1724 - accuracy: 0.9415\n",
      "Epoch 00038: val_accuracy did not improve from 0.84044\n",
      "103/103 [==============================] - 3s 30ms/step - loss: 0.1724 - accuracy: 0.9415 - val_loss: 0.5854 - val_accuracy: 0.8258\n",
      "Epoch 39/70\n",
      "103/103 [==============================] - ETA: 0s - loss: 0.1776 - accuracy: 0.9394\n",
      "Epoch 00039: val_accuracy did not improve from 0.84044\n",
      "103/103 [==============================] - 4s 35ms/step - loss: 0.1776 - accuracy: 0.9394 - val_loss: 0.5975 - val_accuracy: 0.8222\n",
      "Epoch 40/70\n",
      "103/103 [==============================] - ETA: 0s - loss: 0.1656 - accuracy: 0.9430\n",
      "Epoch 00040: val_accuracy did not improve from 0.84044\n",
      "103/103 [==============================] - 4s 39ms/step - loss: 0.1656 - accuracy: 0.9430 - val_loss: 0.6006 - val_accuracy: 0.8307\n",
      "Epoch 41/70\n",
      "103/103 [==============================] - ETA: 0s - loss: 0.1679 - accuracy: 0.9443\n",
      "Epoch 00041: val_accuracy did not improve from 0.84044\n",
      "103/103 [==============================] - 7s 63ms/step - loss: 0.1679 - accuracy: 0.9443 - val_loss: 0.6070 - val_accuracy: 0.8197\n",
      "Epoch 42/70\n",
      "103/103 [==============================] - ETA: 0s - loss: 0.1652 - accuracy: 0.9461\n",
      "Epoch 00042: val_accuracy did not improve from 0.84044\n",
      "103/103 [==============================] - 7s 65ms/step - loss: 0.1652 - accuracy: 0.9461 - val_loss: 0.6037 - val_accuracy: 0.8307\n",
      "Epoch 43/70\n",
      "103/103 [==============================] - ETA: 0s - loss: 0.1633 - accuracy: 0.9443\n",
      "Epoch 00043: val_accuracy did not improve from 0.84044\n",
      "103/103 [==============================] - 4s 41ms/step - loss: 0.1633 - accuracy: 0.9443 - val_loss: 0.6067 - val_accuracy: 0.8173\n",
      "Epoch 44/70\n",
      "103/103 [==============================] - ETA: 0s - loss: 0.1626 - accuracy: 0.9488\n",
      "Epoch 00044: val_accuracy did not improve from 0.84044\n",
      "103/103 [==============================] - 6s 62ms/step - loss: 0.1626 - accuracy: 0.9488 - val_loss: 0.6130 - val_accuracy: 0.8173\n",
      "Epoch 45/70\n",
      "102/103 [============================>.] - ETA: 0s - loss: 0.1657 - accuracy: 0.9433\n",
      "Epoch 00045: val_accuracy did not improve from 0.84044\n",
      "103/103 [==============================] - 3s 32ms/step - loss: 0.1650 - accuracy: 0.9436 - val_loss: 0.6068 - val_accuracy: 0.8222\n",
      "Epoch 46/70\n",
      "103/103 [==============================] - ETA: 0s - loss: 0.1540 - accuracy: 0.9473 ETA: 1s - loss: 0.1365  - ETA: 0s - loss: 0.143\n",
      "Epoch 00046: val_accuracy did not improve from 0.84044\n",
      "103/103 [==============================] - 3s 29ms/step - loss: 0.1540 - accuracy: 0.9473 - val_loss: 0.6132 - val_accuracy: 0.8161\n",
      "Epoch 47/70\n",
      "102/103 [============================>.] - ETA: 0s - loss: 0.1641 - accuracy: 0.9455\n",
      "Epoch 00047: val_accuracy did not improve from 0.84044\n",
      "103/103 [==============================] - 3s 31ms/step - loss: 0.1656 - accuracy: 0.9449 - val_loss: 0.6121 - val_accuracy: 0.8234\n",
      "Epoch 48/70\n",
      "102/103 [============================>.] - ETA: 0s - loss: 0.1557 - accuracy: 0.9449\n",
      "Epoch 00048: val_accuracy did not improve from 0.84044\n",
      "103/103 [==============================] - 3s 31ms/step - loss: 0.1558 - accuracy: 0.9449 - val_loss: 0.6326 - val_accuracy: 0.8173\n",
      "Epoch 49/70\n",
      "102/103 [============================>.] - ETA: 0s - loss: 0.1613 - accuracy: 0.9464\n",
      "Epoch 00049: val_accuracy did not improve from 0.84044\n",
      "103/103 [==============================] - 3s 31ms/step - loss: 0.1612 - accuracy: 0.9464 - val_loss: 0.6381 - val_accuracy: 0.8124\n",
      "Epoch 50/70\n",
      "101/103 [============================>.] - ETA: 0s - loss: 0.1510 - accuracy: 0.9505\n",
      "Epoch 00050: val_accuracy did not improve from 0.84044\n",
      "103/103 [==============================] - 3s 31ms/step - loss: 0.1517 - accuracy: 0.9504 - val_loss: 0.6425 - val_accuracy: 0.8270\n",
      "Epoch 51/70\n",
      "103/103 [==============================] - ETA: 0s - loss: 0.1566 - accuracy: 0.9497\n",
      "Epoch 00051: val_accuracy did not improve from 0.84044\n",
      "103/103 [==============================] - 3s 31ms/step - loss: 0.1566 - accuracy: 0.9497 - val_loss: 0.6421 - val_accuracy: 0.8112\n",
      "Epoch 52/70\n",
      "102/103 [============================>.] - ETA: 0s - loss: 0.1531 - accuracy: 0.9464\n",
      "Epoch 00052: val_accuracy did not improve from 0.84044\n",
      "103/103 [==============================] - 3s 30ms/step - loss: 0.1530 - accuracy: 0.9464 - val_loss: 0.6473 - val_accuracy: 0.8222\n",
      "Epoch 53/70\n",
      "102/103 [============================>.] - ETA: 0s - loss: 0.1483 - accuracy: 0.9458\n",
      "Epoch 00053: val_accuracy did not improve from 0.84044\n",
      "103/103 [==============================] - 3s 31ms/step - loss: 0.1498 - accuracy: 0.9452 - val_loss: 0.6384 - val_accuracy: 0.8124\n",
      "Epoch 54/70\n",
      "102/103 [============================>.] - ETA: 0s - loss: 0.1511 - accuracy: 0.9491\n",
      "Epoch 00054: val_accuracy did not improve from 0.84044\n",
      "103/103 [==============================] - 3s 30ms/step - loss: 0.1518 - accuracy: 0.9491 - val_loss: 0.6516 - val_accuracy: 0.8136\n",
      "Epoch 55/70\n",
      "102/103 [============================>.] - ETA: 0s - loss: 0.1495 - accuracy: 0.9485\n",
      "Epoch 00055: val_accuracy did not improve from 0.84044\n",
      "103/103 [==============================] - 3s 31ms/step - loss: 0.1493 - accuracy: 0.9485 - val_loss: 0.6440 - val_accuracy: 0.8246\n",
      "Epoch 56/70\n",
      "103/103 [==============================] - ETA: 0s - loss: 0.1406 - accuracy: 0.9513\n",
      "Epoch 00056: val_accuracy did not improve from 0.84044\n",
      "103/103 [==============================] - 3s 30ms/step - loss: 0.1406 - accuracy: 0.9513 - val_loss: 0.6543 - val_accuracy: 0.8124\n"
     ]
    },
    {
     "name": "stdout",
     "output_type": "stream",
     "text": [
      "Epoch 57/70\n",
      "102/103 [============================>.] - ETA: 0s - loss: 0.1451 - accuracy: 0.9513 ETA: 0s - loss:\n",
      "Epoch 00057: val_accuracy did not improve from 0.84044\n",
      "103/103 [==============================] - 3s 31ms/step - loss: 0.1445 - accuracy: 0.9516 - val_loss: 0.6481 - val_accuracy: 0.8197\n",
      "Epoch 58/70\n",
      "103/103 [==============================] - ETA: 0s - loss: 0.1432 - accuracy: 0.9519\n",
      "Epoch 00058: val_accuracy did not improve from 0.84044\n",
      "103/103 [==============================] - 3s 31ms/step - loss: 0.1432 - accuracy: 0.9519 - val_loss: 0.6559 - val_accuracy: 0.8088\n",
      "Epoch 59/70\n",
      "102/103 [============================>.] - ETA: 0s - loss: 0.1412 - accuracy: 0.9507\n",
      "Epoch 00059: val_accuracy did not improve from 0.84044\n",
      "103/103 [==============================] - 3s 31ms/step - loss: 0.1408 - accuracy: 0.9507 - val_loss: 0.6444 - val_accuracy: 0.8124\n",
      "Epoch 60/70\n",
      "103/103 [==============================] - ETA: 0s - loss: 0.1390 - accuracy: 0.9504 ETA: 0s - loss: 0.1394 - accura\n",
      "Epoch 00060: val_accuracy did not improve from 0.84044\n",
      "103/103 [==============================] - 3s 32ms/step - loss: 0.1390 - accuracy: 0.9504 - val_loss: 0.6637 - val_accuracy: 0.8185\n",
      "Epoch 61/70\n",
      "103/103 [==============================] - ETA: 0s - loss: 0.1337 - accuracy: 0.9528\n",
      "Epoch 00061: val_accuracy did not improve from 0.84044\n",
      "103/103 [==============================] - 6s 57ms/step - loss: 0.1337 - accuracy: 0.9528 - val_loss: 0.6671 - val_accuracy: 0.8149\n",
      "Epoch 62/70\n",
      "103/103 [==============================] - ETA: 0s - loss: 0.1508 - accuracy: 0.9467\n",
      "Epoch 00062: val_accuracy did not improve from 0.84044\n",
      "103/103 [==============================] - 7s 65ms/step - loss: 0.1508 - accuracy: 0.9467 - val_loss: 0.6650 - val_accuracy: 0.8027\n",
      "Epoch 63/70\n",
      "103/103 [==============================] - ETA: 0s - loss: 0.1419 - accuracy: 0.9500\n",
      "Epoch 00063: val_accuracy did not improve from 0.84044\n",
      "103/103 [==============================] - 3s 31ms/step - loss: 0.1419 - accuracy: 0.9500 - val_loss: 0.6601 - val_accuracy: 0.8197\n",
      "Epoch 64/70\n",
      "103/103 [==============================] - ETA: 0s - loss: 0.1356 - accuracy: 0.9516\n",
      "Epoch 00064: val_accuracy did not improve from 0.84044\n",
      "103/103 [==============================] - 3s 31ms/step - loss: 0.1356 - accuracy: 0.9516 - val_loss: 0.6882 - val_accuracy: 0.8100\n",
      "Epoch 65/70\n",
      "102/103 [============================>.] - ETA: 0s - loss: 0.1325 - accuracy: 0.9544\n",
      "Epoch 00065: val_accuracy did not improve from 0.84044\n",
      "103/103 [==============================] - 3s 32ms/step - loss: 0.1320 - accuracy: 0.9546 - val_loss: 0.6895 - val_accuracy: 0.8063\n",
      "Epoch 66/70\n",
      "102/103 [============================>.] - ETA: 0s - loss: 0.1343 - accuracy: 0.9525\n",
      "Epoch 00066: val_accuracy did not improve from 0.84044\n",
      "103/103 [==============================] - 3s 31ms/step - loss: 0.1336 - accuracy: 0.9528 - val_loss: 0.6861 - val_accuracy: 0.8076\n",
      "Epoch 67/70\n",
      "101/103 [============================>.] - ETA: 0s - loss: 0.1376 - accuracy: 0.9533\n",
      "Epoch 00067: val_accuracy did not improve from 0.84044\n",
      "103/103 [==============================] - 3s 33ms/step - loss: 0.1375 - accuracy: 0.9531 - val_loss: 0.6772 - val_accuracy: 0.8185\n",
      "Epoch 68/70\n",
      "103/103 [==============================] - ETA: 0s - loss: 0.1277 - accuracy: 0.9537\n",
      "Epoch 00068: val_accuracy did not improve from 0.84044\n",
      "103/103 [==============================] - 6s 63ms/step - loss: 0.1277 - accuracy: 0.9537 - val_loss: 0.7018 - val_accuracy: 0.8112\n",
      "Epoch 69/70\n",
      "103/103 [==============================] - ETA: 0s - loss: 0.1238 - accuracy: 0.95 - ETA: 0s - loss: 0.1261 - accuracy: 0.9567\n",
      "Epoch 00069: val_accuracy did not improve from 0.84044\n",
      "103/103 [==============================] - 7s 66ms/step - loss: 0.1261 - accuracy: 0.9567 - val_loss: 0.6852 - val_accuracy: 0.8161\n",
      "Epoch 70/70\n",
      "103/103 [==============================] - ETA: 0s - loss: 0.1291 - accuracy: 0.9546\n",
      "Epoch 00070: val_accuracy did not improve from 0.84044\n",
      "103/103 [==============================] - 7s 65ms/step - loss: 0.1291 - accuracy: 0.9546 - val_loss: 0.6870 - val_accuracy: 0.8002\n"
     ]
    }
   ],
   "source": [
    "from keras.models import Sequential\n",
    "from keras import layers\n",
    "from keras import regularizers\n",
    "from keras import backend as K\n",
    "from keras.callbacks import ModelCheckpoint\n",
    "model1 = Sequential()\n",
    "model1.add(layers.Embedding(max_words, 20)) #The embedding layer\n",
    "model1.add(layers.LSTM(15,dropout=0.5)) #Our LSTM layer\n",
    "model1.add(layers.Dense(3,activation='softmax'))\n",
    "\n",
    "\n",
    "model1.compile(optimizer='rmsprop',loss='categorical_crossentropy', metrics=['accuracy'])\n",
    "\n",
    "checkpoint1 = ModelCheckpoint(\"best_model2.hdf5\", monitor='val_accuracy', verbose=1,save_best_only=True, mode='auto', period=1,save_weights_only=False)\n",
    "history = model1.fit(X_train, y_train, epochs=70,validation_data=(X_test, y_test),callbacks=[checkpoint1])"
   ]
  },
  {
   "cell_type": "code",
   "execution_count": 38,
   "id": "4ad8e21e",
   "metadata": {},
   "outputs": [],
   "source": [
    "best_model = keras.models.load_model(\"best_model2.hdf5\")"
   ]
  },
  {
   "cell_type": "code",
   "execution_count": 39,
   "id": "c0ddf095",
   "metadata": {},
   "outputs": [
    {
     "name": "stdout",
     "output_type": "stream",
     "text": [
      "26/26 - 2s - loss: 0.5194 - accuracy: 0.8404 - 2s/epoch - 73ms/step\n",
      "Model accuracy:  0.8404384851455688\n"
     ]
    }
   ],
   "source": [
    "test_loss, test_acc = best_model.evaluate(X_test, y_test, verbose=2)\n",
    "print('Model accuracy: ',test_acc)"
   ]
  },
  {
   "cell_type": "code",
   "execution_count": 40,
   "id": "1e376c4c",
   "metadata": {},
   "outputs": [],
   "source": [
    "predictions = best_model.predict(X_test)"
   ]
  },
  {
   "cell_type": "code",
   "execution_count": 41,
   "id": "3b09c44a",
   "metadata": {},
   "outputs": [
    {
     "data": {
      "text/plain": [
       "<AxesSubplot:>"
      ]
     },
     "execution_count": 41,
     "metadata": {},
     "output_type": "execute_result"
    },
    {
     "data": {
      "image/png": "[encoded data removed]",
      "text/plain": [
       "<Figure size 1080x1080 with 2 Axes>"
      ]
     },
     "metadata": {
      "needs_background": "light"
     },
     "output_type": "display_data"
    }
   ],
   "source": [
    "from sklearn.metrics import confusion_matrix\n",
    "matrix = confusion_matrix(y_test.argmax(axis=1), np.around(predictions, decimals=0).argmax(axis=1))\n",
    "import seaborn as sns\n",
    "conf_matrix = pd.DataFrame(matrix, index = ['Neutral','Negative','Positive'],columns = ['Neutral','Negative','Positive'])\n",
    "#Normalizing\n",
    "conf_matrix = conf_matrix.astype('float') / conf_matrix.sum(axis=1)[:, np.newaxis]\n",
    "plt.figure(figsize = (15,15))\n",
    "sns.heatmap(conf_matrix, annot=True, annot_kws={\"size\": 15})"
   ]
  },
  {
   "cell_type": "code",
   "execution_count": 42,
   "id": "1fa4664c",
   "metadata": {},
   "outputs": [],
   "source": [
    "#new prediction\n",
    "sentiment = ['Neutral','Negative','Positive']\n"
   ]
  },
  {
   "cell_type": "code",
   "execution_count": 43,
   "id": "59614308",
   "metadata": {},
   "outputs": [
    {
     "data": {
      "text/plain": [
       "'Positive'"
      ]
     },
     "execution_count": 43,
     "metadata": {},
     "output_type": "execute_result"
    }
   ],
   "source": [
    "sequence = tokenizer.texts_to_sequences(['i love watching cricket'])\n",
    "test = pad_sequences(sequence, maxlen=max_len)\n",
    "sentiment[np.around(best_model.predict(test), decimals=0).argmax(axis=1)[0]]"
   ]
  },
  {
   "cell_type": "code",
   "execution_count": null,
   "id": "e43a6b1f",
   "metadata": {},
   "outputs": [],
   "source": []
  }
 ],
 "metadata": {
  "kernelspec": {
   "display_name": "Python 3",
   "language": "python",
   "name": "python3"
  },
  "language_info": {
   "codemirror_mode": {
    "name": "ipython",
    "version": 3
   },
   "file_extension": ".py",
   "mimetype": "text/x-python",
   "name": "python",
   "nbconvert_exporter": "python",
   "pygments_lexer": "ipython3",
   "version": "3.8.5"
  }
 },
 "nbformat": 4,
 "nbformat_minor": 5
}
